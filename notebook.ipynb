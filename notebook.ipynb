{
 "cells": [
  {
   "cell_type": "markdown",
   "metadata": {},
   "source": [
    "Import libraries"
   ]
  },
  {
   "cell_type": "code",
   "execution_count": 1,
   "metadata": {},
   "outputs": [],
   "source": [
    "import os\n",
    "os.environ[\"KMP_DUPLICATE_LIB_OK\"] = \"TRUE\""
   ]
  },
  {
   "cell_type": "code",
   "execution_count": 2,
   "metadata": {},
   "outputs": [],
   "source": [
    "# imports\n",
    "import numpy as np\n",
    "import torch\n",
    "import torch.nn as nn\n",
    "import torch.optim as optim\n",
    "from torch.nn import init\n",
    "from torch.nn import functional as F\n",
    "import math\n",
    "\n",
    "import time\n",
    "import neurogym as ngym"
   ]
  },
  {
   "cell_type": "code",
   "execution_count": null,
   "metadata": {},
   "outputs": [],
   "source": [
    "import matplotlib.pyplot as plt # type: ignore\n",
    "import scienceplots # type: ignore\n",
    "plt.style.use('science')\n",
    "import matplotlib.lines as mlines\n",
    "import matplotlib.patches as mpatches\n",
    "# parameters for the science style -- too many \n",
    "plt.style.use(['science','no-latex'])\n",
    "plt.rcParams.update({\n",
    "    \"font.size\": 16,\n",
    "    \"axes.labelsize\": 16,\n",
    "    \"legend.fontsize\": 16,\n",
    "    \"xtick.labelsize\": 16,\n",
    "    \"ytick.labelsize\": 16,\n",
    "    \"axes.linewidth\": 1,\n",
    "    \"axes.edgecolor\": \"black\",\n",
    "    \"legend.fancybox\": True,\n",
    "    \"legend.frameon\": True,\n",
    "    \"legend.edgecolor\": \"black\",\n",
    "    \"axes.facecolor\": \"white\",\n",
    "    \"axes.grid\": True,\n",
    "    \"grid.color\": \"#b7b7b7\",\n",
    "    \"grid.linestyle\": \"-\",\n",
    "    \"grid.linewidth\": 0.5,\n",
    "})"
   ]
  },
  {
   "cell_type": "markdown",
   "metadata": {},
   "source": [
    "## NeuroGym Task 1"
   ]
  },
  {
   "cell_type": "code",
   "execution_count": 4,
   "metadata": {},
   "outputs": [],
   "source": [
    "task_name = 'PerceptualDecisionMaking-v0'\n",
    "kwargs = {'dt': 20, 'timing': {'stimulus': 1000}}"
   ]
  },
  {
   "cell_type": "code",
   "execution_count": 5,
   "metadata": {},
   "outputs": [
    {
     "name": "stdout",
     "output_type": "stream",
     "text": [
      "Input has shape (SeqLen, Batch, Dim) = torch.Size([100, 16, 3])\n",
      "Target has shape (SeqLen, Batch) = (100, 16)\n"
     ]
    }
   ],
   "source": [
    "# Make supervised dataset\n",
    "seq_len = 100\n",
    "batch_size = 16\n",
    "#Create the dataset (Hover over ngym.Dataset to see input arguments)\n",
    "dataset = ngym.Dataset(task_name, env_kwargs=kwargs, seq_len=seq_len, batch_size=batch_size)\n",
    "env = dataset.env\n",
    "\n",
    "# Generate one batch of data when called\n",
    "inputs, target = dataset()\n",
    "inputs = torch.from_numpy(inputs).type(torch.float)\n",
    "\n",
    "input_size = env.observation_space.shape[0]\n",
    "output_size = env.action_space.n\n",
    "\n",
    "print('Input has shape (SeqLen, Batch, Dim) =', inputs.shape)\n",
    "print('Target has shape (SeqLen, Batch) =', target.shape)"
   ]
  },
  {
   "cell_type": "markdown",
   "metadata": {},
   "source": [
    "### Define Training Model"
   ]
  },
  {
   "cell_type": "code",
   "execution_count": 6,
   "metadata": {},
   "outputs": [],
   "source": [
    "def train_model(net, dataset, criterion, model = None, return_train = False, steps_num = 2000):\n",
    "    \"\"\"Simple helper function to train the model.\n",
    "\n",
    "    Args:\n",
    "        net: a pytorch nn.Module module\n",
    "        dataset: a dataset object that when called produce a (input, target output) pair\n",
    "        criterion: a pytorch loss function\n",
    "        model: a model object that is used in the loss function\n",
    "\n",
    "    Returns:\n",
    "        net: network object after training\n",
    "    \"\"\"\n",
    "    # Use Adam optimizer\n",
    "    optimizer = optim.Adam(net.parameters(), lr=0.01)\n",
    "    \n",
    "    # Initialize the lists to store the loss and steps\n",
    "    steps = []\n",
    "    losses = []\n",
    "\n",
    "    running_loss = 0\n",
    "    running_acc = 0\n",
    "    start_time = time.time()\n",
    "    # Loop over training batches\n",
    "    print('Training network...')\n",
    "    for i in range(steps_num):\n",
    "        # Generate input and target, convert to pytorch tensor\n",
    "        inputs, labels = dataset()\n",
    "        inputs = torch.from_numpy(inputs).type(torch.float)\n",
    "        labels = torch.from_numpy(labels.flatten()).type(torch.long)\n",
    "\n",
    "        # boiler plate pytorch training:\n",
    "        optimizer.zero_grad()   # zero the gradient buffers\n",
    "        output, _ = net(inputs)\n",
    "        # Reshape to (SeqLen x Batch, OutputSize)\n",
    "        output = output.view(-1, output_size)\n",
    "        if model == None:\n",
    "            loss = criterion(output, labels)\n",
    "        else:\n",
    "            loss = criterion(output, labels, model)\n",
    "        loss.backward()\n",
    "        optimizer.step()    # Does the update\n",
    "\n",
    "        # Compute the running loss every 100 steps\n",
    "        running_loss += loss.item()\n",
    "        if i % 100 == 99:\n",
    "            running_loss /= 100\n",
    "            print('Step {}, Loss {:0.4f}, Time {:0.1f}s'.format(\n",
    "                i+1, running_loss, time.time() - start_time))\n",
    "            \n",
    "\n",
    "            # Append the loss and step\n",
    "            steps.append(i+1)\n",
    "            losses.append(running_loss)\n",
    "\n",
    "            running_loss = 0\n",
    "\n",
    "    # Return the trained network\n",
    "    if return_train:\n",
    "        return net, steps, losses\n",
    "    else:\n",
    "        return net"
   ]
  },
  {
   "cell_type": "markdown",
   "metadata": {},
   "source": [
    "### Brian like penalties for cost function"
   ]
  },
  {
   "cell_type": "code",
   "execution_count": 7,
   "metadata": {},
   "outputs": [],
   "source": [
    "# define penalties\n",
    "def sparsity_penalty(model, beta_sparsity=0.5):\n",
    "    \"\"\"Compute sparsity penalty based on the model's weights.\"\"\"\n",
    "    return beta_sparsity * torch.sum(torch.abs(model.fc.weight))\n",
    "\n",
    "def firing_rate_penalty(output, beta_firing_rate=0.5):\n",
    "    \"\"\"Compute penalty for high firing rates based on the model's output.\"\"\"\n",
    "    return beta_firing_rate * torch.sum(torch.square(output))\n",
    "\n",
    "\n",
    "# define loss function\n",
    "def loss_brain_penalties(output, target, model, \n",
    "                                beta_sparsity=0.05, beta_firing_rate=0.5):\n",
    "    \"\"\"\n",
    "    Compute the total loss with added penalties for sparsity, firing rate, and long-distance connections.\n",
    "    \"\"\"\n",
    "    # Base task-specific loss - same as before\n",
    "    loss = nn.CrossEntropyLoss()(output, target)\n",
    "\n",
    "    # Add penalties\n",
    "    total_loss = loss\n",
    "    total_loss += sparsity_penalty(model, beta_sparsity)\n",
    "    total_loss += firing_rate_penalty(output, beta_firing_rate)\n",
    "    \n",
    "    return total_loss"
   ]
  },
  {
   "cell_type": "markdown",
   "metadata": {},
   "source": [
    "## Model 1: Leaky RNN (from notes)"
   ]
  },
  {
   "cell_type": "code",
   "execution_count": 8,
   "metadata": {},
   "outputs": [],
   "source": [
    "class LeakyRNN(nn.Module):\n",
    "    \"\"\"Leaky RNN.\n",
    "\n",
    "    Parameters:\n",
    "        input_size: Number of input neurons\n",
    "        hidden_size: Number of hidden neurons\n",
    "        dt: discretization time step in ms.\n",
    "            If None, dt equals time constant tau\n",
    "\n",
    "    Inputs:\n",
    "        input: tensor of shape (seq_len, batch, input_size)\n",
    "        hidden: tensor of shape (batch, hidden_size), initial hidden activity\n",
    "            if None, hidden is initialized through self.init_hidden()\n",
    "\n",
    "    Outputs:\n",
    "        output: tensor of shape (seq_len, batch, hidden_size)\n",
    "        hidden: tensor of shape (batch, hidden_size), final hidden activity\n",
    "    \"\"\"\n",
    "\n",
    "    def __init__(self, input_size, hidden_size, dt=None, **kwargs):\n",
    "        super().__init__()\n",
    "        self.input_size = input_size\n",
    "        self.hidden_size = hidden_size\n",
    "        self.tau = 100\n",
    "        if dt is None:\n",
    "            alpha = 1\n",
    "        else:\n",
    "            alpha = dt / self.tau\n",
    "        self.alpha = alpha\n",
    "\n",
    "        self.input2h = nn.Linear(input_size, hidden_size)\n",
    "        self.h2h = nn.Linear(hidden_size, hidden_size)\n",
    "\n",
    "    def init_hidden(self, input_shape):\n",
    "        batch_size = input_shape[1]\n",
    "        return torch.zeros(batch_size, self.hidden_size)\n",
    "\n",
    "    def recurrence(self, input, hidden):\n",
    "        \"\"\"Run network for one time step.\n",
    "\n",
    "        Inputs:\n",
    "            input: tensor of shape (batch, input_size)\n",
    "            hidden: tensor of shape (batch, hidden_size)\n",
    "\n",
    "        Outputs:\n",
    "            h_new: tensor of shape (batch, hidden_size),\n",
    "                network activity at the next time step\n",
    "        \"\"\"\n",
    "        h_new = torch.relu(self.input2h(input) + self.h2h(hidden))\n",
    "\n",
    "        #implement how much the previous hidden layer activity should be maintained in the new activity\n",
    "        h_new = hidden * (1 - self.alpha) + h_new * self.alpha\n",
    "        return h_new\n",
    "\n",
    "    def forward(self, input, hidden=None):\n",
    "        \"\"\"Propogate input through the network.\"\"\"\n",
    "\n",
    "        # If hidden activity is not provided, initialize it\n",
    "        if hidden is None:\n",
    "            hidden = self.init_hidden(input.shape).to(input.device)\n",
    "\n",
    "        # Loop through time\n",
    "        output = []\n",
    "        steps = range(input.size(0))\n",
    "        for i in steps:\n",
    "            hidden = self.recurrence(input[i], hidden)\n",
    "            output.append(hidden)\n",
    "\n",
    "        # Stack together output from all time steps\n",
    "        output = torch.stack(output, dim=0)  # (seq_len, batch, hidden_size)\n",
    "        return output, hidden\n",
    "\n",
    "\n",
    "class RNNNet(nn.Module):\n",
    "    \"\"\"Recurrent network model.\n",
    "\n",
    "    Parameters:\n",
    "        input_size: int, input size\n",
    "        hidden_size: int, hidden size\n",
    "        output_size: int, output size\n",
    "\n",
    "    Inputs:\n",
    "        x: tensor of shape (Seq Len, Batch, Input size)\n",
    "\n",
    "    Outputs:\n",
    "        out: tensor of shape (Seq Len, Batch, Output size)\n",
    "        rnn_output: tensor of shape (Seq Len, Batch, Hidden size)\n",
    "    \"\"\"\n",
    "    def __init__(self, input_size, hidden_size, output_size, **kwargs):\n",
    "        super().__init__()\n",
    "\n",
    "        # Leaky RNN\n",
    "        self.rnn = LeakyRNN(input_size, hidden_size, **kwargs)\n",
    "\n",
    "        # Add a Linear output layer\n",
    "        self.fc = nn.Linear(hidden_size, output_size)\n",
    "\n",
    "    def forward(self, x):\n",
    "        rnn_output, _ = self.rnn(x)\n",
    "        out = self.fc(rnn_output)\n",
    "        return out, rnn_output"
   ]
  },
  {
   "cell_type": "markdown",
   "metadata": {},
   "source": [
    "### No penalty"
   ]
  },
  {
   "cell_type": "code",
   "execution_count": 9,
   "metadata": {},
   "outputs": [
    {
     "name": "stdout",
     "output_type": "stream",
     "text": [
      "RNNNet(\n",
      "  (rnn): LeakyRNN(\n",
      "    (input2h): Linear(in_features=3, out_features=128, bias=True)\n",
      "    (h2h): Linear(in_features=128, out_features=128, bias=True)\n",
      "  )\n",
      "  (fc): Linear(in_features=128, out_features=3, bias=True)\n",
      ")\n",
      "Training network...\n",
      "Step 100, Loss 0.3654, Time 3.0s\n",
      "Step 200, Loss 0.0946, Time 6.1s\n",
      "Step 300, Loss 0.0535, Time 9.0s\n",
      "Step 400, Loss 0.0414, Time 12.0s\n",
      "Step 500, Loss 0.0331, Time 15.0s\n",
      "Step 600, Loss 0.0336, Time 17.9s\n",
      "Step 700, Loss 0.0349, Time 21.0s\n",
      "Step 800, Loss 0.0309, Time 24.0s\n",
      "Step 900, Loss 0.0316, Time 27.2s\n",
      "Step 1000, Loss 0.0297, Time 30.3s\n",
      "Step 1100, Loss 0.0280, Time 33.4s\n",
      "Step 1200, Loss 0.0261, Time 36.5s\n",
      "Step 1300, Loss 0.0264, Time 39.6s\n",
      "Step 1400, Loss 0.0278, Time 42.8s\n",
      "Step 1500, Loss 0.0278, Time 46.0s\n",
      "Step 1600, Loss 0.0237, Time 49.0s\n",
      "Step 1700, Loss 0.0258, Time 52.2s\n",
      "Step 1800, Loss 0.0249, Time 55.4s\n",
      "Step 1900, Loss 0.0243, Time 58.6s\n",
      "Step 2000, Loss 0.0246, Time 62.0s\n"
     ]
    }
   ],
   "source": [
    "# Instantiate the network and print information\n",
    "hidden_size = 128\n",
    "criterion = nn.CrossEntropyLoss()\n",
    "\n",
    "# Create an instance of the Class RNNNet\n",
    "net = RNNNet(input_size, hidden_size, output_size, dt=env.dt)\n",
    "print(net)\n",
    "\n",
    "net, m1_np_s, m1_np_l = train_model(net, dataset, criterion, return_train=True)"
   ]
  },
  {
   "cell_type": "markdown",
   "metadata": {},
   "source": [
    "### Sparsity penalty"
   ]
  },
  {
   "cell_type": "code",
   "execution_count": 10,
   "metadata": {},
   "outputs": [
    {
     "name": "stdout",
     "output_type": "stream",
     "text": [
      "Training network...\n",
      "Step 100, Loss 1.2787, Time 3.2s\n",
      "Step 200, Loss 0.6281, Time 6.5s\n",
      "Step 300, Loss 0.6103, Time 9.8s\n",
      "Step 400, Loss 0.6066, Time 12.9s\n",
      "Step 500, Loss 0.5744, Time 16.1s\n",
      "Step 600, Loss 0.5718, Time 19.4s\n",
      "Step 700, Loss 0.5701, Time 22.7s\n",
      "Step 800, Loss 0.5745, Time 25.8s\n",
      "Step 900, Loss 0.5733, Time 29.1s\n",
      "Step 1000, Loss 0.5720, Time 32.3s\n",
      "Step 1100, Loss 0.5749, Time 35.5s\n",
      "Step 1200, Loss 0.5733, Time 38.7s\n",
      "Step 1300, Loss 0.5707, Time 42.1s\n",
      "Step 1400, Loss 0.5755, Time 45.3s\n",
      "Step 1500, Loss 0.5926, Time 48.7s\n",
      "Step 1600, Loss 0.5710, Time 52.0s\n",
      "Step 1700, Loss 0.5719, Time 55.2s\n",
      "Step 1800, Loss 0.5726, Time 58.6s\n",
      "Step 1900, Loss 0.5677, Time 62.2s\n",
      "Step 2000, Loss 0.5715, Time 65.5s\n"
     ]
    }
   ],
   "source": [
    "# Create an instance of the Class RNNNet\n",
    "net = RNNNet(input_size, hidden_size, output_size, dt=env.dt) # same as before\n",
    "\n",
    "net, m1_sp_s, m1_sp_l = train_model(\n",
    "    net, \n",
    "    dataset, \n",
    "    lambda output, target, model: loss_brain_penalties(output, target, model, beta_sparsity=0.5, beta_firing_rate=0),\n",
    "    model=net,  # pass for penalty calc\n",
    "    return_train=True\n",
    ")\n"
   ]
  },
  {
   "cell_type": "markdown",
   "metadata": {},
   "source": [
    "### Low Firing Rate Penalty"
   ]
  },
  {
   "cell_type": "code",
   "execution_count": 11,
   "metadata": {},
   "outputs": [
    {
     "name": "stdout",
     "output_type": "stream",
     "text": [
      "Training network...\n",
      "Step 100, Loss 7.8351, Time 3.7s\n",
      "Step 200, Loss 1.1280, Time 7.1s\n",
      "Step 300, Loss 1.1137, Time 10.4s\n",
      "Step 400, Loss 1.1079, Time 13.7s\n",
      "Step 500, Loss 1.1051, Time 17.0s\n",
      "Step 600, Loss 1.1035, Time 20.3s\n",
      "Step 700, Loss 1.1024, Time 23.8s\n",
      "Step 800, Loss 1.1017, Time 27.2s\n",
      "Step 900, Loss 1.1010, Time 31.0s\n",
      "Step 1000, Loss 1.1006, Time 34.7s\n",
      "Step 1100, Loss 1.1002, Time 38.2s\n",
      "Step 1200, Loss 1.0999, Time 41.5s\n",
      "Step 1300, Loss 1.0997, Time 44.9s\n",
      "Step 1400, Loss 1.0996, Time 48.3s\n",
      "Step 1500, Loss 1.0994, Time 51.8s\n",
      "Step 1600, Loss 1.0993, Time 55.2s\n",
      "Step 1700, Loss 1.0992, Time 58.9s\n",
      "Step 1800, Loss 1.0992, Time 63.2s\n",
      "Step 1900, Loss 1.0991, Time 67.0s\n",
      "Step 2000, Loss 1.0990, Time 70.8s\n"
     ]
    }
   ],
   "source": [
    "# Create an instance of the Class RNNNet\n",
    "net = RNNNet(input_size, hidden_size, output_size, dt=env.dt) # same as before\n",
    "\n",
    "net, m1_lfr_s, m1_lfr_l = train_model(\n",
    "    net, \n",
    "    dataset, \n",
    "    lambda output, target, model: loss_brain_penalties(output, target, model, beta_sparsity=0, beta_firing_rate=0.5),\n",
    "    model=net,  # pass for penalty calc\n",
    "    return_train=True\n",
    ")"
   ]
  },
  {
   "cell_type": "markdown",
   "metadata": {},
   "source": [
    "# Model EI "
   ]
  },
  {
   "cell_type": "code",
   "execution_count": 12,
   "metadata": {},
   "outputs": [],
   "source": [
    "class EIRecLinear(nn.Module):\n",
    "\n",
    "    r\"\"\"Recurrent E-I Linear transformation.\n",
    "\n",
    "    This module implements a linear transformation with recurrent E-I dynamics,\n",
    "    where part of the units are excitatory and the rest are inhibitory.\n",
    "\n",
    "    Args:\n",
    "        hidden_size: int, the number of units in the layer.\n",
    "        e_prop: float between 0 and 1, the proportion of excitatory units.\n",
    "        bias: bool, if True, adds a learnable bias to the output.\n",
    "    \"\"\"\n",
    "\n",
    "    __constants__ = ['bias', 'hidden_size', 'e_prop']\n",
    "\n",
    "    def __init__(self, hidden_size, e_prop, bias=True):\n",
    "        super().__init__()\n",
    "        self.hidden_size = hidden_size\n",
    "        self.e_prop = e_prop\n",
    "        self.e_size = int(e_prop * hidden_size) # Number of excitatory units\n",
    "        self.i_size = hidden_size - self.e_size # Number of inhibitory units\n",
    "\n",
    "        # Weight matrix for the recurrent connections\n",
    "        self.weight = nn.Parameter(torch.Tensor(hidden_size, hidden_size))\n",
    "\n",
    "        # Create a mask to define the E-I interactions\n",
    "        # The mask has ones for E to E/I and negative ones for I to E/I, except the diagonal\n",
    "\n",
    "        #First create a mask to remove the diagonal (matrix size hidden_size*hidden_size)\n",
    "        mask_no_diag = torch.ones((hidden_size, hidden_size)) - torch.eye(hidden_size)\n",
    "        # Define the excitatory an inhibitory units with columns of 1s and -1s (use e_size and i_size)\n",
    "        E_I_unit_list = np.concatenate([np.ones(self.e_size), -np.ones(self.i_size)]).T\n",
    "\n",
    "        mask = torch.tensor(E_I_unit_list, dtype=torch.float32) * mask_no_diag\n",
    "\n",
    "        self.mask = torch.tensor(mask, dtype=torch.float32)\n",
    "\n",
    "        # Optionally add a bias term\n",
    "        if bias:\n",
    "            self.bias = nn.Parameter(torch.Tensor(hidden_size))\n",
    "        else:\n",
    "            self.register_parameter('bias', None)\n",
    "        self.reset_parameters()\n",
    "\n",
    "    def reset_parameters(self):\n",
    "        # Initialize weights and biases\n",
    "        init.kaiming_uniform_(self.weight, a=math.sqrt(5))\n",
    "        # Scale the weights for the excitatory neurons\n",
    "        self.weight.data[:, :self.e_size] /= (self.e_size/self.i_size)\n",
    "\n",
    "        # Initialize biases\n",
    "        if self.bias is not None:\n",
    "            fan_in, _ = init._calculate_fan_in_and_fan_out(self.weight)\n",
    "            bound = 1 / math.sqrt(fan_in)\n",
    "            init.uniform_(self.bias, -bound, bound)\n",
    "\n",
    "    def effective_weight(self):\n",
    "        # Apply the mask you have already created to the weights after applying rectification to get the effective weight\n",
    "        # This ensures that weights from excitatory neurons are positive,\n",
    "        # and weights from inhibitory neurons are negative.\n",
    "        eff_W = F.relu(self.weight)*self.mask\n",
    "        return eff_W\n",
    "\n",
    "    def forward(self, input):\n",
    "        # Apply the linear transformation using the effective weights and biases\n",
    "        # The weights used are non-negative due to the absolute value in effective_weight.\n",
    "        return F.linear(input, self.effective_weight(), self.bias)\n"
   ]
  },
  {
   "cell_type": "code",
   "execution_count": 13,
   "metadata": {},
   "outputs": [],
   "source": [
    "class EIRNN(nn.Module):\n",
    "    \"\"\"E-I RNN.\n",
    "\n",
    "    Reference:\n",
    "        Song, H.F., Yang, G.R. and Wang, X.J., 2016.\n",
    "        Training excitatory-inhibitory recurrent neural networks\n",
    "        for cognitive tasks: a simple and flexible framework.\n",
    "        PLoS computational biology, 12(2).\n",
    "\n",
    "    Args:\n",
    "        input_size: Number of input neurons\n",
    "        hidden_size: Number of hidden neurons\n",
    "\n",
    "    Inputs:\n",
    "        input: (seq_len, batch, input_size)\n",
    "        hidden: (batch, hidden_size)\n",
    "        e_prop: float between 0 and 1, proportion of excitatory neurons\n",
    "    \"\"\"\n",
    "\n",
    "    def __init__(self, input_size, hidden_size, dt=None,\n",
    "                 e_prop=0.8, sigma_rec=0, **kwargs):\n",
    "        super().__init__()\n",
    "        self.input_size = input_size\n",
    "        self.hidden_size = hidden_size\n",
    "        self.e_size = int(hidden_size * e_prop)\n",
    "        self.i_size = hidden_size - self.e_size\n",
    "        self.num_layers = 1\n",
    "        self.tau = 100\n",
    "        if dt is None:\n",
    "            alpha = 1\n",
    "        else:\n",
    "            alpha = dt / self.tau\n",
    "        self.alpha = alpha\n",
    "        self.oneminusalpha = 1 - alpha\n",
    "        # Recurrent noise parameter, scaled by the discretization (sqrt(2*alpha)) and noise level (sigma_rec)\n",
    "        # This adds stochasticity to the recurrent dynamics, possibly simulating biological neural variability\n",
    "        self._sigma_rec = np.sqrt(2*alpha) * sigma_rec\n",
    "\n",
    "        self.input2h = nn.Linear(input_size, hidden_size)\n",
    "        self.h2h = EIRecLinear(hidden_size, e_prop=0.8)\n",
    "\n",
    "    def init_hidden(self, input):\n",
    "        batch_size = input.shape[1]\n",
    "        return (torch.zeros(batch_size, self.hidden_size).to(input.device),\n",
    "                torch.zeros(batch_size, self.hidden_size).to(input.device))\n",
    "\n",
    "    def recurrence(self, input, hidden):\n",
    "        \"\"\"Recurrence helper.\"\"\"\n",
    "        state, output = hidden\n",
    "        total_input = self.input2h(input) + self.h2h(output)\n",
    "\n",
    "        state = state * self.oneminusalpha + total_input * self.alpha\n",
    "        state += self._sigma_rec * torch.randn_like(state)\n",
    "        output = torch.relu(state)\n",
    "        return state, output\n",
    "\n",
    "    def forward(self, input, hidden=None):\n",
    "        \"\"\"Propogate input through the network.\"\"\"\n",
    "        if hidden is None:\n",
    "            hidden = self.init_hidden(input)\n",
    "\n",
    "        output = []\n",
    "        steps = range(input.size(0))\n",
    "        for i in steps:\n",
    "            hidden = self.recurrence(input[i], hidden)\n",
    "            output.append(hidden[1])\n",
    "        output = torch.stack(output, dim=0)\n",
    "        return output, hidden"
   ]
  },
  {
   "cell_type": "code",
   "execution_count": 14,
   "metadata": {},
   "outputs": [],
   "source": [
    "class Net(nn.Module):\n",
    "    \"\"\"Recurrent network model.\n",
    "\n",
    "    Args:\n",
    "        input_size: int, input size\n",
    "        hidden_size: int, hidden size\n",
    "        output_size: int, output size\n",
    "        rnn: str, type of RNN, lstm, rnn, ctrnn, or eirnn\n",
    "    \"\"\"\n",
    "    def __init__(self, input_size, hidden_size, output_size, **kwargs):\n",
    "        super().__init__()\n",
    "\n",
    "        # Excitatory-inhibitory RNN\n",
    "        self.rnn = EIRNN(input_size, hidden_size, **kwargs)\n",
    "        self.fc = nn.Linear(self.rnn.e_size, output_size)\n",
    "\n",
    "    def forward(self, x):\n",
    "        rnn_activity, _ = self.rnn(x)\n",
    "        rnn_e = rnn_activity[:, :, :self.rnn.e_size]\n",
    "        out = self.fc(rnn_e)\n",
    "        return out, rnn_activity"
   ]
  },
  {
   "cell_type": "markdown",
   "metadata": {},
   "source": [
    "### No penalty"
   ]
  },
  {
   "cell_type": "code",
   "execution_count": 15,
   "metadata": {},
   "outputs": [
    {
     "name": "stdout",
     "output_type": "stream",
     "text": [
      "Net(\n",
      "  (rnn): EIRNN(\n",
      "    (input2h): Linear(in_features=3, out_features=50, bias=True)\n",
      "    (h2h): EIRecLinear()\n",
      "  )\n",
      "  (fc): Linear(in_features=40, out_features=3, bias=True)\n",
      ")\n",
      "Training network...\n"
     ]
    },
    {
     "name": "stderr",
     "output_type": "stream",
     "text": [
      "C:\\Users\\alejo\\AppData\\Local\\Temp\\ipykernel_32176\\3936818147.py:36: UserWarning: To copy construct from a tensor, it is recommended to use sourceTensor.clone().detach() or sourceTensor.clone().detach().requires_grad_(True), rather than torch.tensor(sourceTensor).\n",
      "  self.mask = torch.tensor(mask, dtype=torch.float32)\n"
     ]
    },
    {
     "name": "stdout",
     "output_type": "stream",
     "text": [
      "Step 100, Loss 0.2833, Time 4.0s\n",
      "Step 200, Loss 0.0810, Time 8.0s\n",
      "Step 300, Loss 0.0476, Time 12.4s\n",
      "Step 400, Loss 0.0369, Time 18.7s\n",
      "Step 500, Loss 0.0318, Time 24.3s\n",
      "Step 600, Loss 0.0310, Time 30.8s\n",
      "Step 700, Loss 0.0310, Time 36.2s\n",
      "Step 800, Loss 0.0293, Time 41.6s\n",
      "Step 900, Loss 0.0279, Time 45.9s\n",
      "Step 1000, Loss 0.0309, Time 49.9s\n",
      "Step 1100, Loss 0.0285, Time 54.0s\n",
      "Step 1200, Loss 0.0283, Time 58.3s\n",
      "Step 1300, Loss 0.0268, Time 62.3s\n",
      "Step 1400, Loss 0.0275, Time 66.3s\n",
      "Step 1500, Loss 0.0248, Time 70.4s\n",
      "Step 1600, Loss 0.0235, Time 74.4s\n",
      "Step 1700, Loss 0.0250, Time 78.7s\n",
      "Step 1800, Loss 0.0254, Time 83.2s\n",
      "Step 1900, Loss 0.0258, Time 87.5s\n",
      "Step 2000, Loss 0.0261, Time 92.1s\n"
     ]
    }
   ],
   "source": [
    "# Instantiate the network\n",
    "hidden_size = 50\n",
    "net = Net(input_size=input_size, hidden_size=hidden_size,\n",
    "          output_size=output_size, dt=env.dt, sigma_rec=0.15)\n",
    "print(net)\n",
    "\n",
    "criterion = nn.CrossEntropyLoss()\n",
    "net, m2_np_s, m2_np_l = train_model(net, dataset, criterion, return_train=True)"
   ]
  },
  {
   "cell_type": "markdown",
   "metadata": {},
   "source": [
    "### Sparsity Penalty"
   ]
  },
  {
   "cell_type": "code",
   "execution_count": 16,
   "metadata": {},
   "outputs": [
    {
     "name": "stdout",
     "output_type": "stream",
     "text": [
      "Net(\n",
      "  (rnn): EIRNN(\n",
      "    (input2h): Linear(in_features=3, out_features=50, bias=True)\n",
      "    (h2h): EIRecLinear()\n",
      "  )\n",
      "  (fc): Linear(in_features=40, out_features=3, bias=True)\n",
      ")\n",
      "Training network...\n"
     ]
    },
    {
     "name": "stderr",
     "output_type": "stream",
     "text": [
      "C:\\Users\\alejo\\AppData\\Local\\Temp\\ipykernel_32176\\3936818147.py:36: UserWarning: To copy construct from a tensor, it is recommended to use sourceTensor.clone().detach() or sourceTensor.clone().detach().requires_grad_(True), rather than torch.tensor(sourceTensor).\n",
      "  self.mask = torch.tensor(mask, dtype=torch.float32)\n"
     ]
    },
    {
     "name": "stdout",
     "output_type": "stream",
     "text": [
      "Step 100, Loss 1.0113, Time 4.7s\n",
      "Step 200, Loss 0.4809, Time 8.8s\n",
      "Step 300, Loss 0.4473, Time 13.0s\n",
      "Step 400, Loss 0.4198, Time 17.0s\n",
      "Step 500, Loss 0.3786, Time 21.2s\n",
      "Step 600, Loss 0.3529, Time 25.6s\n",
      "Step 700, Loss 0.3389, Time 29.8s\n",
      "Step 800, Loss 0.3392, Time 33.9s\n",
      "Step 900, Loss 0.3340, Time 37.8s\n",
      "Step 1000, Loss 0.3306, Time 41.8s\n",
      "Step 1100, Loss 0.3324, Time 45.8s\n",
      "Step 1200, Loss 0.3283, Time 49.8s\n",
      "Step 1300, Loss 0.3227, Time 53.7s\n",
      "Step 1400, Loss 0.3225, Time 57.7s\n",
      "Step 1500, Loss 0.3151, Time 61.6s\n",
      "Step 1600, Loss 0.3169, Time 65.6s\n",
      "Step 1700, Loss 0.3088, Time 69.6s\n",
      "Step 1800, Loss 0.3058, Time 73.6s\n",
      "Step 1900, Loss 0.3007, Time 77.5s\n",
      "Step 2000, Loss 0.2991, Time 81.4s\n"
     ]
    }
   ],
   "source": [
    "# Instantiate the network\n",
    "hidden_size = 50\n",
    "net = Net(input_size=input_size, hidden_size=hidden_size,\n",
    "          output_size=output_size, dt=env.dt, sigma_rec=0.15)\n",
    "print(net)\n",
    "\n",
    "criterion = nn.CrossEntropyLoss()\n",
    "net, m2_sp_s, m2_sp_l = train_model(net, \n",
    "    dataset, \n",
    "    lambda output, target, model: loss_brain_penalties(output, target, model, beta_sparsity=0.5, beta_firing_rate=0),\n",
    "    model=net,  # pass for penalty calc\n",
    "    return_train=True\n",
    ")"
   ]
  },
  {
   "cell_type": "code",
   "execution_count": 17,
   "metadata": {},
   "outputs": [
    {
     "name": "stdout",
     "output_type": "stream",
     "text": [
      "Net(\n",
      "  (rnn): EIRNN(\n",
      "    (input2h): Linear(in_features=3, out_features=50, bias=True)\n",
      "    (h2h): EIRecLinear()\n",
      "  )\n",
      "  (fc): Linear(in_features=40, out_features=3, bias=True)\n",
      ")\n",
      "Training network...\n"
     ]
    },
    {
     "name": "stderr",
     "output_type": "stream",
     "text": [
      "C:\\Users\\alejo\\AppData\\Local\\Temp\\ipykernel_32176\\3936818147.py:36: UserWarning: To copy construct from a tensor, it is recommended to use sourceTensor.clone().detach() or sourceTensor.clone().detach().requires_grad_(True), rather than torch.tensor(sourceTensor).\n",
      "  self.mask = torch.tensor(mask, dtype=torch.float32)\n"
     ]
    },
    {
     "name": "stdout",
     "output_type": "stream",
     "text": [
      "Step 100, Loss 6.0097, Time 3.9s\n",
      "Step 200, Loss 1.2881, Time 7.9s\n",
      "Step 300, Loss 1.1450, Time 11.8s\n",
      "Step 400, Loss 1.1119, Time 15.8s\n",
      "Step 500, Loss 1.1046, Time 19.8s\n",
      "Step 600, Loss 1.1027, Time 23.7s\n",
      "Step 700, Loss 1.1019, Time 27.7s\n",
      "Step 800, Loss 1.1013, Time 31.6s\n",
      "Step 900, Loss 1.1009, Time 35.4s\n",
      "Step 1000, Loss 1.1006, Time 39.3s\n",
      "Step 1100, Loss 1.1001, Time 43.4s\n",
      "Step 1200, Loss 1.1000, Time 47.2s\n",
      "Step 1300, Loss 1.0997, Time 51.1s\n",
      "Step 1400, Loss 1.0995, Time 55.2s\n",
      "Step 1500, Loss 1.0994, Time 59.1s\n",
      "Step 1600, Loss 1.0993, Time 63.0s\n",
      "Step 1700, Loss 1.0992, Time 66.9s\n",
      "Step 1800, Loss 1.0991, Time 70.8s\n",
      "Step 1900, Loss 1.0990, Time 74.8s\n",
      "Step 2000, Loss 1.0989, Time 78.9s\n"
     ]
    }
   ],
   "source": [
    "# Instantiate the network\n",
    "hidden_size = 50\n",
    "net = Net(input_size=input_size, hidden_size=hidden_size,\n",
    "          output_size=output_size, dt=env.dt, sigma_rec=0.15)\n",
    "print(net)\n",
    "\n",
    "criterion = nn.CrossEntropyLoss()\n",
    "net, m2_lfr_s, m2_lfr_l = train_model(net, \n",
    "    dataset, \n",
    "    lambda output, target, model: loss_brain_penalties(output, target, model, beta_sparsity=0, beta_firing_rate=0.5),\n",
    "    model=net,  # pass for penalty calc\n",
    "    return_train=True\n",
    ")"
   ]
  },
  {
   "cell_type": "markdown",
   "metadata": {},
   "source": [
    "## Plot"
   ]
  },
  {
   "cell_type": "code",
   "execution_count": 35,
   "metadata": {},
   "outputs": [
    {
     "data": {
      "image/png": "[encoded data removed]",
      "text/plain": [
       "<Figure size 800x600 with 1 Axes>"
      ]
     },
     "metadata": {},
     "output_type": "display_data"
    }
   ],
   "source": [
    "# create fig\n",
    "plt.figure(figsize=(8, 6))\n",
    "\n",
    "# define colours\n",
    "leaky_rnn_color = 'm'  \n",
    "ei_rnn_color = 'b'  \n",
    "\n",
    "# define lines\n",
    "line_styles = {\n",
    "    'No Penalties': '-',  \n",
    "    'Sparsity Penalty': ':',  \n",
    "    'Firing Rate Penalty': '--',  \n",
    "}\n",
    "\n",
    "\n",
    "# leaky RNN (m1)\n",
    "plt.plot(m1_np_s, m1_np_l, color=leaky_rnn_color, linestyle=line_styles['No Penalties'])\n",
    "plt.plot(m1_sp_s, m1_sp_l, color=leaky_rnn_color, linestyle=line_styles['Sparsity Penalty'])\n",
    "plt.plot(m1_lfr_s, m1_lfr_l, color=leaky_rnn_color, linestyle=line_styles['Firing Rate Penalty'])\n",
    "\n",
    "# EI RNN (m2)\n",
    "plt.plot(m2_np_s, m2_np_l, color=ei_rnn_color, linestyle=line_styles['No Penalties'])\n",
    "plt.plot(m2_sp_s, m2_sp_l, color=ei_rnn_color, linestyle=line_styles['Sparsity Penalty'])\n",
    "plt.plot(m2_lfr_s, m2_lfr_l, color=ei_rnn_color, linestyle=line_styles['Firing Rate Penalty'])\n",
    "\n",
    "# custom legend\n",
    "legend_elements = [\n",
    "    mlines.Line2D([], [], color='k', linestyle=line_styles['No Penalties'], label='No Penalties'),\n",
    "    mlines.Line2D([], [], color='k', linestyle=line_styles['Sparsity Penalty'], label='Sparsity Penalty'),\n",
    "    mlines.Line2D([], [], color='k', linestyle=line_styles['Firing Rate Penalty'], label='Firing Rate Penalty'),\n",
    "    mpatches.Patch(color=leaky_rnn_color, label='Leaky RNN'),\n",
    "    mpatches.Patch(color=ei_rnn_color, label='EI RNN')\n",
    "]\n",
    "\n",
    "plt.xlabel('Steps')\n",
    "plt.ylabel('Loss')\n",
    "\n",
    "# add legend\n",
    "plt.legend(handles=legend_elements)\n",
    "\n",
    "# Show plot\n",
    "plt.show()\n",
    "\n"
   ]
  }
 ],
 "metadata": {
  "kernelspec": {
   "display_name": "EDF",
   "language": "python",
   "name": "python3"
  },
  "language_info": {
   "codemirror_mode": {
    "name": "ipython",
    "version": 3
   },
   "file_extension": ".py",
   "mimetype": "text/x-python",
   "name": "python",
   "nbconvert_exporter": "python",
   "pygments_lexer": "ipython3",
   "version": "3.11.5"
  }
 },
 "nbformat": 4,
 "nbformat_minor": 2
}
